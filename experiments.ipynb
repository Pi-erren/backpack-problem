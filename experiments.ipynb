{
 "cells": [
  {
   "cell_type": "code",
   "execution_count": 1,
   "metadata": {},
   "outputs": [],
   "source": [
    "import numpy as np\n",
    "\n",
    "from genetic_algorithm import GeneticAlgorithm"
   ]
  },
  {
   "cell_type": "code",
   "execution_count": 33,
   "metadata": {},
   "outputs": [
    {
     "name": "stdout",
     "output_type": "stream",
     "text": [
      "Generation 0: Best Fitness = 60\n",
      "Generation 1: Best Fitness = 60\n",
      "Generation 2: Best Fitness = 60\n",
      "Generation 3: Best Fitness = 60\n",
      "Generation 4: Best Fitness = 60\n",
      "Generation 5: Best Fitness = 60\n",
      "Generation 6: Best Fitness = 60\n",
      "Generation 7: Best Fitness = 60\n",
      "Generation 8: Best Fitness = 60\n",
      "Generation 9: Best Fitness = 60\n",
      "Generation 10: Best Fitness = 60\n",
      "Generation 11: Best Fitness = 60\n",
      "Generation 12: Best Fitness = 60\n",
      "Generation 13: Best Fitness = 60\n",
      "Generation 14: Best Fitness = 60\n",
      "Generation 15: Best Fitness = 60\n",
      "Generation 16: Best Fitness = 60\n",
      "Generation 17: Best Fitness = 60\n",
      "Generation 18: Best Fitness = 60\n",
      "Generation 19: Best Fitness = 60\n",
      "Generation 20: Best Fitness = 60\n",
      "Generation 21: Best Fitness = 60\n",
      "Generation 22: Best Fitness = 60\n",
      "Generation 23: Best Fitness = 60\n",
      "Generation 24: Best Fitness = 60\n",
      "Generation 25: Best Fitness = 60\n",
      "Generation 26: Best Fitness = 60\n",
      "Generation 27: Best Fitness = 60\n",
      "Generation 28: Best Fitness = 60\n",
      "Generation 29: Best Fitness = 60\n",
      "Generation 30: Best Fitness = 60\n",
      "Generation 31: Best Fitness = 60\n",
      "Generation 32: Best Fitness = 60\n",
      "Generation 33: Best Fitness = 60\n",
      "Generation 34: Best Fitness = 60\n",
      "Generation 35: Best Fitness = 60\n",
      "Generation 36: Best Fitness = 60\n",
      "Generation 37: Best Fitness = 60\n",
      "Generation 38: Best Fitness = 60\n",
      "Generation 39: Best Fitness = 60\n",
      "Generation 40: Best Fitness = 60\n",
      "Generation 41: Best Fitness = 60\n",
      "Generation 42: Best Fitness = 60\n",
      "Generation 43: Best Fitness = 60\n",
      "Generation 44: Best Fitness = 60\n",
      "Generation 45: Best Fitness = 60\n",
      "Generation 46: Best Fitness = 60\n",
      "Generation 47: Best Fitness = 60\n",
      "Generation 48: Best Fitness = 60\n",
      "Generation 49: Best Fitness = 60\n",
      "Generation 50: Best Fitness = 60\n",
      "Generation 51: Best Fitness = 60\n",
      "Generation 52: Best Fitness = 60\n",
      "Generation 53: Best Fitness = 60\n",
      "Generation 54: Best Fitness = 60\n",
      "Generation 55: Best Fitness = 60\n",
      "Generation 56: Best Fitness = 60\n",
      "Generation 57: Best Fitness = 60\n",
      "Generation 58: Best Fitness = 60\n",
      "Generation 59: Best Fitness = 60\n",
      "Generation 60: Best Fitness = 60\n",
      "Generation 61: Best Fitness = 60\n",
      "Generation 62: Best Fitness = 60\n",
      "Generation 63: Best Fitness = 60\n",
      "Generation 64: Best Fitness = 60\n",
      "Generation 65: Best Fitness = 60\n",
      "Generation 66: Best Fitness = 60\n",
      "Generation 67: Best Fitness = 60\n",
      "Generation 68: Best Fitness = 60\n",
      "Generation 69: Best Fitness = 60\n",
      "Generation 70: Best Fitness = 60\n",
      "Generation 71: Best Fitness = 60\n",
      "Generation 72: Best Fitness = 60\n",
      "Generation 73: Best Fitness = 60\n",
      "Generation 74: Best Fitness = 60\n",
      "Generation 75: Best Fitness = 60\n",
      "Generation 76: Best Fitness = 60\n",
      "Generation 77: Best Fitness = 60\n",
      "Generation 78: Best Fitness = 60\n",
      "Generation 79: Best Fitness = 60\n",
      "Generation 80: Best Fitness = 60\n",
      "Generation 81: Best Fitness = 60\n",
      "Generation 82: Best Fitness = 60\n",
      "Generation 83: Best Fitness = 60\n",
      "Generation 84: Best Fitness = 60\n",
      "Generation 85: Best Fitness = 60\n",
      "Generation 86: Best Fitness = 60\n",
      "Generation 87: Best Fitness = 60\n",
      "Generation 88: Best Fitness = 60\n",
      "Generation 89: Best Fitness = 60\n",
      "Generation 90: Best Fitness = 60\n",
      "Generation 91: Best Fitness = 60\n",
      "Generation 92: Best Fitness = 60\n",
      "Generation 93: Best Fitness = 60\n",
      "Generation 94: Best Fitness = 60\n",
      "Generation 95: Best Fitness = 60\n",
      "Generation 96: Best Fitness = 60\n",
      "Generation 97: Best Fitness = 60\n",
      "Generation 98: Best Fitness = 60\n",
      "Generation 99: Best Fitness = 60\n",
      "Best solution: [1 0 0]\n",
      "Total utility: 60\n"
     ]
    }
   ],
   "source": [
    "budgets = np.array([50, 100])\n",
    "utilities = np.array([60, 100, 120])\n",
    "costs = np.array([[10, 20], [20, 30], [30, 40]])\n",
    "population_size = 10\n",
    "mutation_rate = 0.01\n",
    "crossover_rate = 0.5\n",
    "num_generations = 100\n",
    "\n",
    "ga = GeneticAlgorithm(population_size, mutation_rate, crossover_rate, num_generations, budgets, utilities, costs)\n",
    "best_solution = ga.run()\n",
    "print('Best solution:', best_solution)\n",
    "print('Total utility:', np.sum(best_solution * utilities))"
   ]
  },
  {
   "cell_type": "markdown",
   "metadata": {},
   "source": [
    "# Sandbox"
   ]
  },
  {
   "cell_type": "code",
   "execution_count": 29,
   "metadata": {},
   "outputs": [
    {
     "data": {
      "text/plain": [
       "[1, 2, 3]"
      ]
     },
     "execution_count": 29,
     "metadata": {},
     "output_type": "execute_result"
    }
   ],
   "source": [
    "import random\n",
    "random.choice([[1, 2, 3],[4, 5, 6]])"
   ]
  }
 ],
 "metadata": {
  "kernelspec": {
   "display_name": "Python 3",
   "language": "python",
   "name": "python3"
  },
  "language_info": {
   "codemirror_mode": {
    "name": "ipython",
    "version": 3
   },
   "file_extension": ".py",
   "mimetype": "text/x-python",
   "name": "python",
   "nbconvert_exporter": "python",
   "pygments_lexer": "ipython3",
   "version": "3.12.3"
  }
 },
 "nbformat": 4,
 "nbformat_minor": 2
}
